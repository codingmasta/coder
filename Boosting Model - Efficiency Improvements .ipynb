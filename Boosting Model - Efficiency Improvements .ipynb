{
 "cells":[
  {
   "cell_type":"code",
   "source":[
    "# Assignment: Perform gradient boosting model to European Social Survey data. "
   ],
   "execution_count":null,
   "outputs":[
    
   ],
   "metadata":{
    "datalore":{
     "node_id":"mdVB0tfwyjSoc8q4GznoV6",
     "type":"CODE",
     "hide_input_from_viewers":true,
     "hide_output_from_viewers":true
    }
   }
  },
  {
   "cell_type":"code",
   "source":[
    "# Import packages \n",
    "\n",
    "import itertools \n",
    "import pandas as pd\n",
    "import numpy as np\n",
    "import matplotlib.pyplot as plt\n",
    "%matplotlib inline\n",
    "\n",
    "from sklearn.metrics import confusion_matrix, precision_score, recall_score\n",
    "from sklearn import ensemble"
   ],
   "execution_count":1,
   "outputs":[
    
   ],
   "metadata":{
    "datalore":{
     "node_id":"7eL6b5nCeRptsPIX27CY6Y",
     "type":"CODE",
     "hide_input_from_viewers":true,
     "hide_output_from_viewers":true
    }
   }
  },
  {
   "cell_type":"code",
   "source":[
    "# Use European Social Survey data with a categorical outcome: whether \n",
    "# or not someone lives with a partner. \n",
    "\n",
    "# Define dataset and drop missing values\n",
    "\n",
    "df = pd.read_csv((\"https:\/\/raw.githubusercontent.com\/Thinkful-Ed\/data-201-resources\/\"\n",
    "    \"master\/ESS_practice_data\/ESSdata_Thinkful.csv\")).dropna(axis = 0)\n",
    "\n",
    "# Define outcome and predictors.\n",
    "# Set the outcomes to '0' and '1'.\n",
    "\n",
    "y = df[\"partner\"] - 1\n",
    "X = df.loc[:, ~df.columns.isin([\"partner\", \"cntry\", \"idno\"])]\n",
    "\n",
    "# Make the categorical variable \"country\" into dummies.\n",
    "X = pd.concat([X, pd.get_dummies(df[\"cntry\"])], axis = 1)\n",
    "\n",
    "# Create training and test sets. \n",
    "offset = int(X.shape[0] * 0.8)\n",
    "\n",
    "# Put 80% of the data in the training set.\n",
    "X_train, y_train = X[:offset], y[:offset]\n",
    "\n",
    "# Place 20% in the test set. \n",
    "X_test, y_test = X[offset:], y[offset:]\n"
   ],
   "execution_count":2,
   "outputs":[
    
   ],
   "metadata":{
    "datalore":{
     "node_id":"F7bhdsBILw8G1Naes4rTJ2",
     "type":"CODE",
     "hide_input_from_viewers":true,
     "hide_output_from_viewers":true
    }
   }
  },
  {
   "cell_type":"code",
   "source":[
    "df.head()"
   ],
   "execution_count":3,
   "outputs":[
    {
     "data":{
      "text\/html":[
       "<div>\n",
       "<style scoped>\n",
       "    .dataframe tbody tr th:only-of-type {\n",
       "        vertical-align: middle;\n",
       "    }\n",
       "\n",
       "    .dataframe tbody tr th {\n",
       "        vertical-align: top;\n",
       "    }\n",
       "\n",
       "    .dataframe thead th {\n",
       "        text-align: right;\n",
       "    }\n",
       "<\/style>\n",
       "<table border=\"1\" class=\"dataframe\">\n",
       "  <thead>\n",
       "    <tr style=\"text-align: right;\">\n",
       "      <th><\/th>\n",
       "      <th>cntry<\/th>\n",
       "      <th>idno<\/th>\n",
       "      <th>year<\/th>\n",
       "      <th>tvtot<\/th>\n",
       "      <th>ppltrst<\/th>\n",
       "      <th>pplfair<\/th>\n",
       "      <th>pplhlp<\/th>\n",
       "      <th>happy<\/th>\n",
       "      <th>sclmeet<\/th>\n",
       "      <th>sclact<\/th>\n",
       "      <th>gndr<\/th>\n",
       "      <th>agea<\/th>\n",
       "      <th>partner<\/th>\n",
       "    <\/tr>\n",
       "  <\/thead>\n",
       "  <tbody>\n",
       "    <tr>\n",
       "      <th>0<\/th>\n",
       "      <td>CH<\/td>\n",
       "      <td>5.0<\/td>\n",
       "      <td>6<\/td>\n",
       "      <td>3.0<\/td>\n",
       "      <td>3.0<\/td>\n",
       "      <td>10.0<\/td>\n",
       "      <td>5.0<\/td>\n",
       "      <td>8.0<\/td>\n",
       "      <td>5.0<\/td>\n",
       "      <td>4.0<\/td>\n",
       "      <td>2.0<\/td>\n",
       "      <td>60.0<\/td>\n",
       "      <td>1.0<\/td>\n",
       "    <\/tr>\n",
       "    <tr>\n",
       "      <th>1<\/th>\n",
       "      <td>CH<\/td>\n",
       "      <td>25.0<\/td>\n",
       "      <td>6<\/td>\n",
       "      <td>6.0<\/td>\n",
       "      <td>5.0<\/td>\n",
       "      <td>7.0<\/td>\n",
       "      <td>5.0<\/td>\n",
       "      <td>9.0<\/td>\n",
       "      <td>3.0<\/td>\n",
       "      <td>2.0<\/td>\n",
       "      <td>2.0<\/td>\n",
       "      <td>59.0<\/td>\n",
       "      <td>1.0<\/td>\n",
       "    <\/tr>\n",
       "    <tr>\n",
       "      <th>2<\/th>\n",
       "      <td>CH<\/td>\n",
       "      <td>26.0<\/td>\n",
       "      <td>6<\/td>\n",
       "      <td>1.0<\/td>\n",
       "      <td>8.0<\/td>\n",
       "      <td>8.0<\/td>\n",
       "      <td>8.0<\/td>\n",
       "      <td>7.0<\/td>\n",
       "      <td>6.0<\/td>\n",
       "      <td>3.0<\/td>\n",
       "      <td>1.0<\/td>\n",
       "      <td>24.0<\/td>\n",
       "      <td>2.0<\/td>\n",
       "    <\/tr>\n",
       "    <tr>\n",
       "      <th>3<\/th>\n",
       "      <td>CH<\/td>\n",
       "      <td>28.0<\/td>\n",
       "      <td>6<\/td>\n",
       "      <td>4.0<\/td>\n",
       "      <td>6.0<\/td>\n",
       "      <td>6.0<\/td>\n",
       "      <td>7.0<\/td>\n",
       "      <td>10.0<\/td>\n",
       "      <td>6.0<\/td>\n",
       "      <td>2.0<\/td>\n",
       "      <td>2.0<\/td>\n",
       "      <td>64.0<\/td>\n",
       "      <td>1.0<\/td>\n",
       "    <\/tr>\n",
       "    <tr>\n",
       "      <th>4<\/th>\n",
       "      <td>CH<\/td>\n",
       "      <td>29.0<\/td>\n",
       "      <td>6<\/td>\n",
       "      <td>5.0<\/td>\n",
       "      <td>6.0<\/td>\n",
       "      <td>7.0<\/td>\n",
       "      <td>5.0<\/td>\n",
       "      <td>8.0<\/td>\n",
       "      <td>7.0<\/td>\n",
       "      <td>2.0<\/td>\n",
       "      <td>2.0<\/td>\n",
       "      <td>55.0<\/td>\n",
       "      <td>1.0<\/td>\n",
       "    <\/tr>\n",
       "  <\/tbody>\n",
       "<\/table>\n",
       "<\/div>"
      ]
     },
     "metadata":{
      
     },
     "output_type":"display_data"
    }
   ],
   "metadata":{
    "datalore":{
     "node_id":"iGeyGGvcwQpBB8P1exR7NJ",
     "type":"CODE",
     "hide_input_from_viewers":true,
     "hide_output_from_viewers":true
    }
   }
  },
  {
   "cell_type":"code",
   "source":[
    "df.tail()"
   ],
   "execution_count":4,
   "outputs":[
    {
     "data":{
      "text\/html":[
       "<div>\n",
       "<style scoped>\n",
       "    .dataframe tbody tr th:only-of-type {\n",
       "        vertical-align: middle;\n",
       "    }\n",
       "\n",
       "    .dataframe tbody tr th {\n",
       "        vertical-align: top;\n",
       "    }\n",
       "\n",
       "    .dataframe thead th {\n",
       "        text-align: right;\n",
       "    }\n",
       "<\/style>\n",
       "<table border=\"1\" class=\"dataframe\">\n",
       "  <thead>\n",
       "    <tr style=\"text-align: right;\">\n",
       "      <th><\/th>\n",
       "      <th>cntry<\/th>\n",
       "      <th>idno<\/th>\n",
       "      <th>year<\/th>\n",
       "      <th>tvtot<\/th>\n",
       "      <th>ppltrst<\/th>\n",
       "      <th>pplfair<\/th>\n",
       "      <th>pplhlp<\/th>\n",
       "      <th>happy<\/th>\n",
       "      <th>sclmeet<\/th>\n",
       "      <th>sclact<\/th>\n",
       "      <th>gndr<\/th>\n",
       "      <th>agea<\/th>\n",
       "      <th>partner<\/th>\n",
       "    <\/tr>\n",
       "  <\/thead>\n",
       "  <tbody>\n",
       "    <tr>\n",
       "      <th>8589<\/th>\n",
       "      <td>SE<\/td>\n",
       "      <td>3729.0<\/td>\n",
       "      <td>7<\/td>\n",
       "      <td>3.0<\/td>\n",
       "      <td>4.0<\/td>\n",
       "      <td>5.0<\/td>\n",
       "      <td>3.0<\/td>\n",
       "      <td>6.0<\/td>\n",
       "      <td>6.0<\/td>\n",
       "      <td>2.0<\/td>\n",
       "      <td>1.0<\/td>\n",
       "      <td>18.0<\/td>\n",
       "      <td>2.0<\/td>\n",
       "    <\/tr>\n",
       "    <tr>\n",
       "      <th>8590<\/th>\n",
       "      <td>SE<\/td>\n",
       "      <td>3732.0<\/td>\n",
       "      <td>7<\/td>\n",
       "      <td>5.0<\/td>\n",
       "      <td>6.0<\/td>\n",
       "      <td>4.0<\/td>\n",
       "      <td>4.0<\/td>\n",
       "      <td>10.0<\/td>\n",
       "      <td>6.0<\/td>\n",
       "      <td>3.0<\/td>\n",
       "      <td>1.0<\/td>\n",
       "      <td>15.0<\/td>\n",
       "      <td>2.0<\/td>\n",
       "    <\/tr>\n",
       "    <tr>\n",
       "      <th>8591<\/th>\n",
       "      <td>SE<\/td>\n",
       "      <td>3743.0<\/td>\n",
       "      <td>7<\/td>\n",
       "      <td>4.0<\/td>\n",
       "      <td>5.0<\/td>\n",
       "      <td>7.0<\/td>\n",
       "      <td>6.0<\/td>\n",
       "      <td>8.0<\/td>\n",
       "      <td>6.0<\/td>\n",
       "      <td>3.0<\/td>\n",
       "      <td>1.0<\/td>\n",
       "      <td>44.0<\/td>\n",
       "      <td>2.0<\/td>\n",
       "    <\/tr>\n",
       "    <tr>\n",
       "      <th>8592<\/th>\n",
       "      <td>SE<\/td>\n",
       "      <td>3744.0<\/td>\n",
       "      <td>7<\/td>\n",
       "      <td>5.0<\/td>\n",
       "      <td>8.0<\/td>\n",
       "      <td>8.0<\/td>\n",
       "      <td>6.0<\/td>\n",
       "      <td>9.0<\/td>\n",
       "      <td>7.0<\/td>\n",
       "      <td>3.0<\/td>\n",
       "      <td>1.0<\/td>\n",
       "      <td>15.0<\/td>\n",
       "      <td>2.0<\/td>\n",
       "    <\/tr>\n",
       "    <tr>\n",
       "      <th>8593<\/th>\n",
       "      <td>SE<\/td>\n",
       "      <td>3746.0<\/td>\n",
       "      <td>7<\/td>\n",
       "      <td>2.0<\/td>\n",
       "      <td>6.0<\/td>\n",
       "      <td>7.0<\/td>\n",
       "      <td>5.0<\/td>\n",
       "      <td>7.0<\/td>\n",
       "      <td>7.0<\/td>\n",
       "      <td>4.0<\/td>\n",
       "      <td>2.0<\/td>\n",
       "      <td>15.0<\/td>\n",
       "      <td>2.0<\/td>\n",
       "    <\/tr>\n",
       "  <\/tbody>\n",
       "<\/table>\n",
       "<\/div>"
      ]
     },
     "metadata":{
      
     },
     "output_type":"display_data"
    }
   ],
   "metadata":{
    "datalore":{
     "node_id":"8RRdb3VEkIRD5mtbtddniG",
     "type":"CODE",
     "hide_input_from_viewers":true,
     "hide_output_from_viewers":true
    }
   }
  },
  {
   "cell_type":"code",
   "source":[
    "df.shape"
   ],
   "execution_count":5,
   "outputs":[
    {
     "data":{
      "text\/plain":[
       "(8147, 13)"
      ]
     },
     "metadata":{
      
     },
     "output_type":"display_data"
    }
   ],
   "metadata":{
    "datalore":{
     "node_id":"N7ocWG1HHY8FY9y6jkJZqB",
     "type":"CODE",
     "hide_input_from_viewers":true,
     "hide_output_from_viewers":true
    }
   }
  },
  {
   "cell_type":"code",
   "source":[
    "df.describe()"
   ],
   "execution_count":6,
   "outputs":[
    {
     "data":{
      "text\/html":[
       "<div>\n",
       "<style scoped>\n",
       "    .dataframe tbody tr th:only-of-type {\n",
       "        vertical-align: middle;\n",
       "    }\n",
       "\n",
       "    .dataframe tbody tr th {\n",
       "        vertical-align: top;\n",
       "    }\n",
       "\n",
       "    .dataframe thead th {\n",
       "        text-align: right;\n",
       "    }\n",
       "<\/style>\n",
       "<table border=\"1\" class=\"dataframe\">\n",
       "  <thead>\n",
       "    <tr style=\"text-align: right;\">\n",
       "      <th><\/th>\n",
       "      <th>idno<\/th>\n",
       "      <th>year<\/th>\n",
       "      <th>tvtot<\/th>\n",
       "      <th>ppltrst<\/th>\n",
       "      <th>pplfair<\/th>\n",
       "      <th>pplhlp<\/th>\n",
       "      <th>happy<\/th>\n",
       "      <th>sclmeet<\/th>\n",
       "      <th>sclact<\/th>\n",
       "      <th>gndr<\/th>\n",
       "      <th>agea<\/th>\n",
       "      <th>partner<\/th>\n",
       "    <\/tr>\n",
       "  <\/thead>\n",
       "  <tbody>\n",
       "    <tr>\n",
       "      <th>count<\/th>\n",
       "      <td>8.147000e+03<\/td>\n",
       "      <td>8147.000000<\/td>\n",
       "      <td>8147.000000<\/td>\n",
       "      <td>8147.000000<\/td>\n",
       "      <td>8147.000000<\/td>\n",
       "      <td>8147.000000<\/td>\n",
       "      <td>8147.000000<\/td>\n",
       "      <td>8147.000000<\/td>\n",
       "      <td>8147.000000<\/td>\n",
       "      <td>8147.000000<\/td>\n",
       "      <td>8147.000000<\/td>\n",
       "      <td>8147.000000<\/td>\n",
       "    <\/tr>\n",
       "    <tr>\n",
       "      <th>mean<\/th>\n",
       "      <td>4.022622e+04<\/td>\n",
       "      <td>6.500307<\/td>\n",
       "      <td>3.818584<\/td>\n",
       "      <td>5.574936<\/td>\n",
       "      <td>6.005155<\/td>\n",
       "      <td>5.321468<\/td>\n",
       "      <td>7.708482<\/td>\n",
       "      <td>5.215908<\/td>\n",
       "      <td>2.755984<\/td>\n",
       "      <td>1.496379<\/td>\n",
       "      <td>47.262182<\/td>\n",
       "      <td>1.384681<\/td>\n",
       "    <\/tr>\n",
       "    <tr>\n",
       "      <th>std<\/th>\n",
       "      <td>6.320721e+05<\/td>\n",
       "      <td>0.500031<\/td>\n",
       "      <td>2.008937<\/td>\n",
       "      <td>2.215745<\/td>\n",
       "      <td>2.120127<\/td>\n",
       "      <td>2.166217<\/td>\n",
       "      <td>1.720839<\/td>\n",
       "      <td>1.438792<\/td>\n",
       "      <td>0.901406<\/td>\n",
       "      <td>0.500018<\/td>\n",
       "      <td>18.316890<\/td>\n",
       "      <td>0.486550<\/td>\n",
       "    <\/tr>\n",
       "    <tr>\n",
       "      <th>min<\/th>\n",
       "      <td>1.000000e+00<\/td>\n",
       "      <td>6.000000<\/td>\n",
       "      <td>0.000000<\/td>\n",
       "      <td>0.000000<\/td>\n",
       "      <td>0.000000<\/td>\n",
       "      <td>0.000000<\/td>\n",
       "      <td>0.000000<\/td>\n",
       "      <td>1.000000<\/td>\n",
       "      <td>1.000000<\/td>\n",
       "      <td>1.000000<\/td>\n",
       "      <td>15.000000<\/td>\n",
       "      <td>1.000000<\/td>\n",
       "    <\/tr>\n",
       "    <tr>\n",
       "      <th>25%<\/th>\n",
       "      <td>1.063000e+03<\/td>\n",
       "      <td>6.000000<\/td>\n",
       "      <td>2.000000<\/td>\n",
       "      <td>4.000000<\/td>\n",
       "      <td>5.000000<\/td>\n",
       "      <td>4.000000<\/td>\n",
       "      <td>7.000000<\/td>\n",
       "      <td>4.000000<\/td>\n",
       "      <td>2.000000<\/td>\n",
       "      <td>1.000000<\/td>\n",
       "      <td>33.000000<\/td>\n",
       "      <td>1.000000<\/td>\n",
       "    <\/tr>\n",
       "    <tr>\n",
       "      <th>50%<\/th>\n",
       "      <td>1.749000e+03<\/td>\n",
       "      <td>7.000000<\/td>\n",
       "      <td>4.000000<\/td>\n",
       "      <td>6.000000<\/td>\n",
       "      <td>6.000000<\/td>\n",
       "      <td>5.000000<\/td>\n",
       "      <td>8.000000<\/td>\n",
       "      <td>6.000000<\/td>\n",
       "      <td>3.000000<\/td>\n",
       "      <td>1.000000<\/td>\n",
       "      <td>47.000000<\/td>\n",
       "      <td>1.000000<\/td>\n",
       "    <\/tr>\n",
       "    <tr>\n",
       "      <th>75%<\/th>\n",
       "      <td>2.778000e+03<\/td>\n",
       "      <td>7.000000<\/td>\n",
       "      <td>5.000000<\/td>\n",
       "      <td>7.000000<\/td>\n",
       "      <td>8.000000<\/td>\n",
       "      <td>7.000000<\/td>\n",
       "      <td>9.000000<\/td>\n",
       "      <td>6.000000<\/td>\n",
       "      <td>3.000000<\/td>\n",
       "      <td>2.000000<\/td>\n",
       "      <td>61.000000<\/td>\n",
       "      <td>2.000000<\/td>\n",
       "    <\/tr>\n",
       "    <tr>\n",
       "      <th>max<\/th>\n",
       "      <td>1.100143e+07<\/td>\n",
       "      <td>7.000000<\/td>\n",
       "      <td>7.000000<\/td>\n",
       "      <td>10.000000<\/td>\n",
       "      <td>10.000000<\/td>\n",
       "      <td>10.000000<\/td>\n",
       "      <td>10.000000<\/td>\n",
       "      <td>7.000000<\/td>\n",
       "      <td>5.000000<\/td>\n",
       "      <td>2.000000<\/td>\n",
       "      <td>114.000000<\/td>\n",
       "      <td>2.000000<\/td>\n",
       "    <\/tr>\n",
       "  <\/tbody>\n",
       "<\/table>\n",
       "<\/div>"
      ]
     },
     "metadata":{
      
     },
     "output_type":"display_data"
    }
   ],
   "metadata":{
    "datalore":{
     "node_id":"id2znim4pLOXSj0Yu7yNf2",
     "type":"CODE",
     "hide_input_from_viewers":true,
     "hide_output_from_viewers":true
    }
   }
  },
  {
   "cell_type":"code",
   "source":[
    "# Add visualizations here  "
   ],
   "execution_count":7,
   "outputs":[
    
   ],
   "metadata":{
    "datalore":{
     "node_id":"mQxocwWIvENK0P0WrjjCOx",
     "type":"CODE",
     "hide_input_from_viewers":true,
     "hide_output_from_viewers":true
    }
   }
  },
  {
   "cell_type":"code",
   "source":[
    "# There will be 500 iterations, use 2-deep trees, and set the loss function.\n",
    "\n",
    "# Update this table for the drill at the end of this analysis\n",
    "\n",
    "params = {\"n_estimators\": 500,\n",
    "          \"max_depth\": 2,\n",
    "          \"loss\": \"deviance\",\n",
    "          }\n",
    "\n",
    "# Learning reduces the contribution of each tree; this reduces accuracy, recall and precision.\n",
    "#\n",
    "\n",
    "\n",
    "# Initialize and fit the model.\n",
    "\n",
    "clf = ensemble.GradientBoostingClassifier(**params)\n",
    "clf.fit(X_train, y_train)\n",
    "\n",
    "predict_train = clf.predict(X_train)\n",
    "predict_test = clf.predict(X_test)"
   ],
   "execution_count":8,
   "outputs":[
    
   ],
   "metadata":{
    "datalore":{
     "node_id":"fHsdCucHNfnSjDyMATXWXm",
     "type":"CODE",
     "hide_input_from_viewers":true,
     "hide_output_from_viewers":true
    }
   }
  },
  {
   "cell_type":"code",
   "source":[
    "def plot_confusion_matrix(cm, classes,normalize,\n",
    "                          title='Confusion muatrix',\n",
    "                          cmap=plt.cm.Blues):\n",
    "    \"\"\"\n",
    "    This function prints and plots the confusion matrix.\n",
    "    Normalization can be applied by setting `normalize=True`.\n",
    "    \"\"\"\n",
    "    if normalize:\n",
    "        cm = cm.astype('float') \/ cm.sum(axis=1)[:, np.newaxis]\n",
    "        print(\"Normalized confusion matrix\")\n",
    "    else:\n",
    "        print('Confusion matrix, without normalization')\n",
    "\n",
    "    plt.imshow(cm, interpolation='nearest', cmap=cmap)\n",
    "    plt.title(title)\n",
    "    plt.colorbar()\n",
    "    tick_marks = np.arange(len(classes))\n",
    "    plt.xticks(tick_marks, classes)\n",
    "    plt.yticks(tick_marks, classes)\n",
    "    fmt = '.2f' if normalize else 'd'\n",
    "    thresh = cm.max() \/ 2.\n",
    "    for i, j in itertools.product(range(cm.shape[0]), range(cm.shape[1])):\n",
    "        plt.text(j, i, format(cm[i, j], fmt),\n",
    "                 horizontalalignment=\"center\", verticalalignment=\"center\",\n",
    "                 color=\"white\" if cm[i, j] > thresh else \"black\")\n",
    "    plt.ylabel('True label')\n",
    "    plt.xlabel('Predicted label')"
   ],
   "execution_count":9,
   "outputs":[
    
   ],
   "metadata":{
    "datalore":{
     "node_id":"y5mMPaKd01OMujHQRNgcHB",
     "type":"CODE",
     "hide_input_from_viewers":true,
     "hide_output_from_viewers":true
    }
   }
  },
  {
   "cell_type":"code",
   "source":[
    "cm = confusion_matrix(y_test, predict_test)\n",
    "plot_confusion_matrix(cm,[0,1], False)"
   ],
   "execution_count":10,
   "outputs":[
    {
     "name":"stdout",
     "text":[
      "Confusion matrix, without normalization\n"
     ],
     "output_type":"stream"
    },
    {
     "data":{
      "image\/png":"[encoded data removed]"
     },
     "metadata":{
      "image\/png":{
       
      }
     },
     "output_type":"display_data"
    }
   ],
   "metadata":{
    "datalore":{
     "node_id":"RTmemGUBpdZQbq5pDa1Bk8",
     "type":"CODE",
     "hide_input_from_viewers":true,
     "hide_output_from_viewers":true
    }
   }
  },
  {
   "cell_type":"code",
   "source":[
    "cm = confusion_matrix(y_test, predict_test)\n",
    "plot_confusion_matrix(cm,[0,1], True)"
   ],
   "execution_count":11,
   "outputs":[
    {
     "name":"stdout",
     "text":[
      "Normalized confusion matrix\n"
     ],
     "output_type":"stream"
    },
    {
     "data":{
      "image\/png":"[encoded data removed]"
     },
     "metadata":{
      "image\/png":{
       
      }
     },
     "output_type":"display_data"
    }
   ],
   "metadata":{
    "datalore":{
     "node_id":"6IlmFbcDLbLkv6Rsb2xmj3",
     "type":"CODE",
     "hide_input_from_viewers":true,
     "hide_output_from_viewers":true
    }
   }
  },
  {
   "cell_type":"code",
   "source":[
    "# Accuracy\n",
    "\n",
    "clf.score(X_test, y_test)"
   ],
   "execution_count":12,
   "outputs":[
    {
     "data":{
      "text\/plain":[
       "0.747239263803681"
      ]
     },
     "metadata":{
      
     },
     "output_type":"display_data"
    }
   ],
   "metadata":{
    "datalore":{
     "node_id":"ltUQXfykkPhwUR16iveM1I",
     "type":"CODE",
     "hide_input_from_viewers":true,
     "hide_output_from_viewers":true
    }
   }
  },
  {
   "cell_type":"code",
   "source":[
    "# Precision\n",
    "\n",
    "y_pred = clf.predict(X_test)\n",
    "precision_score(y_test, y_pred)"
   ],
   "execution_count":13,
   "outputs":[
    {
     "data":{
      "text\/plain":[
       "0.7035647279549718"
      ]
     },
     "metadata":{
      
     },
     "output_type":"display_data"
    }
   ],
   "metadata":{
    "datalore":{
     "node_id":"9jxGBV2F1MNl3mm12xWKOM",
     "type":"CODE",
     "hide_input_from_viewers":true,
     "hide_output_from_viewers":true
    }
   }
  },
  {
   "cell_type":"code",
   "source":[
    "# Recall \n",
    "\n",
    "recall_score(y_test, y_pred)"
   ],
   "execution_count":14,
   "outputs":[
    {
     "data":{
      "text\/plain":[
       "0.5961844197138315"
      ]
     },
     "metadata":{
      
     },
     "output_type":"display_data"
    }
   ],
   "metadata":{
    "datalore":{
     "node_id":"7w0sSdAJlEltX1QeywDqfP",
     "type":"CODE",
     "hide_input_from_viewers":true,
     "hide_output_from_viewers":true
    }
   }
  },
  {
   "cell_type":"code",
   "source":[
    "\"\"\" \n",
    "\n",
    "Original Accuracy: 0.74723 (74%)\n",
    "Original Precision: 0.70356 (70%)\n",
    "Original Recall: 0.59618 (59%)\n",
    "\n",
    "\"\"\""
   ],
   "execution_count":15,
   "outputs":[
    {
     "data":{
      "text\/plain":[
       "' \\n\\nOriginal Accuracy: 0.74723 (74%)\\nOriginal Precision: 0.70356 (70%)\\nOriginal Recall: 0.59618 (59%)\\n\\n'"
      ]
     },
     "metadata":{
      
     },
     "output_type":"display_data"
    }
   ],
   "metadata":{
    "datalore":{
     "node_id":"hs0OLZ5n6yXoBPjGM5pAFm",
     "type":"CODE",
     "hide_input_from_viewers":true,
     "hide_output_from_viewers":true
    }
   }
  },
  {
   "cell_type":"markdown",
   "source":[
    "Recommendations for tuning parameters include:  \n",
    "\n",
    "- learning_rate\n",
    "- max_depth\n",
    "- n_estimators\n",
    "- loss\n",
    "- subsample\n",
    "- min_samples_split\n",
    "\n",
    "When this analyst manipulated these parameters individually, minor gains were made (1 - 4%) individually or performance took a hit. \n",
    "                                                                                                                               "
   ],
   "attachments":{
    
   },
   "metadata":{
    "datalore":{
     "node_id":"fUohrJSN5ofgOt4oMoMrVQ",
     "type":"MD",
     "hide_input_from_viewers":true,
     "hide_output_from_viewers":true
    }
   }
  }
 ],
 "metadata":{
  "kernelspec":{
   "display_name":"Python",
   "language":"python",
   "name":"python"
  },
  "datalore":{
   "computation_mode":"REACTIVE",
   "package_manager":"pip",
   "base_environment":"default",
   "packages":[
    
   ],
   "report_row_ids":[
    
   ],
   "version":2
  }
 },
 "nbformat":4,
 "nbformat_minor":4
}